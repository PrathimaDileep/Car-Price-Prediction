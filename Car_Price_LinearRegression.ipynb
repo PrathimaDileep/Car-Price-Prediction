{
 "cells": [
  {
   "cell_type": "code",
   "execution_count": null,
   "metadata": {},
   "outputs": [],
   "source": [
    "import numpy as np\n",
    "import pandas as pd\n",
    "import matplotlib.pyplot as plt\n",
    "import seaborn as sns\n",
    "from sklearn.model_selection import train_test_split\n",
    "from sklearn.preprocessing import MinMaxScaler\n",
    "from sklearn.feature_selection import RFE\n",
    "from sklearn.linear_model import LinearRegression\n",
    "import statsmodels.api as sm\n",
    "from statsmodels.stats.outliers_influence import variance_inflation_factor\n",
    "\n",
    "# To supress warnings\n",
    "import warnings\n",
    "warnings.filterwarnings('ignore')\n",
    "\n",
    "#read the input file\n",
    "Car_Price=pd.read_csv(\"CarPrice_Assignment.csv\", encoding = \"ISO-8859-1\")"
   ]
  },
  {
   "cell_type": "markdown",
   "metadata": {},
   "source": [
    "## Step 1 : Reading and Understanding the Data"
   ]
  },
  {
   "cell_type": "code",
   "execution_count": null,
   "metadata": {},
   "outputs": [],
   "source": [
    "display(Car_Price.head())"
   ]
  },
  {
   "cell_type": "code",
   "execution_count": null,
   "metadata": {},
   "outputs": [],
   "source": [
    "Car_Price.shape"
   ]
  },
  {
   "cell_type": "code",
   "execution_count": null,
   "metadata": {},
   "outputs": [],
   "source": [
    "Car_Price.info()"
   ]
  },
  {
   "cell_type": "code",
   "execution_count": null,
   "metadata": {},
   "outputs": [],
   "source": [
    "Car_Price.describe()"
   ]
  },
  {
   "cell_type": "code",
   "execution_count": null,
   "metadata": {},
   "outputs": [],
   "source": [
    "# To check for rows having atleast one missing value\n",
    "Car_Price.isnull().any(axis=1).sum()"
   ]
  },
  {
   "cell_type": "code",
   "execution_count": null,
   "metadata": {},
   "outputs": [],
   "source": [
    "# To check for columns having atleast one missing value\n",
    "Car_Price.isnull().any(axis=0).sum()"
   ]
  },
  {
   "cell_type": "code",
   "execution_count": null,
   "metadata": {},
   "outputs": [],
   "source": [
    "# To check for Duplicate rows \n",
    "Car_Price_Check_Dup = Car_Price"
   ]
  },
  {
   "cell_type": "code",
   "execution_count": null,
   "metadata": {},
   "outputs": [],
   "source": [
    "duplicateRowsDF = Car_Price_Check_Dup[Car_Price_Check_Dup.duplicated()]"
   ]
  },
  {
   "cell_type": "code",
   "execution_count": null,
   "metadata": {},
   "outputs": [],
   "source": [
    "display(duplicateRowsDF)"
   ]
  },
  {
   "cell_type": "markdown",
   "metadata": {},
   "source": [
    "## Step 2 : Visualising the Data"
   ]
  },
  {
   "cell_type": "code",
   "execution_count": null,
   "metadata": {},
   "outputs": [],
   "source": [
    "# Visualizing Numeric Variables\n",
    "sns.pairplot(Car_Price)\n",
    "plt.show()"
   ]
  },
  {
   "cell_type": "code",
   "execution_count": null,
   "metadata": {},
   "outputs": [],
   "source": [
    "plt.figure(figsize = (16,5))\n",
    "sns.heatmap(Car_Price.corr(),annot=True)\n",
    "plt.show()"
   ]
  },
  {
   "cell_type": "code",
   "execution_count": null,
   "metadata": {},
   "outputs": [],
   "source": [
    "## Visualizing Categorical Variables\n",
    "plt.figure(figsize=(20, 12))\n",
    "plt.subplot(5,2,1)\n",
    "sns.boxplot(x = 'CarName', y = 'price', data = Car_Price)\n",
    "plt.subplot(5,2,2)\n",
    "sns.boxplot(x = 'fueltype', y = 'price', data = Car_Price)\n",
    "plt.subplot(5,2,3)\n",
    "sns.boxplot(x = 'aspiration', y = 'price', data = Car_Price)\n",
    "plt.subplot(5,2,4)\n",
    "sns.boxplot(x = 'doornumber', y = 'price', data = Car_Price)\n",
    "plt.subplot(5,2,5)\n",
    "sns.boxplot(x = 'carbody', y = 'price', data = Car_Price)\n",
    "plt.subplot(5,2,6)\n",
    "sns.boxplot(x = 'drivewheel', y = 'price', data = Car_Price)\n",
    "plt.subplot(5,2,7)\n",
    "sns.boxplot(x = 'enginelocation', y = 'price', data = Car_Price)\n",
    "plt.subplot(5,2,8)\n",
    "sns.boxplot(x = 'enginetype', y = 'price', data = Car_Price)\n",
    "plt.subplot(5,2,9)\n",
    "sns.boxplot(x = 'cylindernumber', y = 'price', data = Car_Price)\n",
    "plt.subplot(5,2,10)\n",
    "sns.boxplot(x = 'fuelsystem', y = 'price', data = Car_Price)\n",
    "plt.show()"
   ]
  },
  {
   "cell_type": "markdown",
   "metadata": {},
   "source": [
    "## Step 3: Data Preparation"
   ]
  },
  {
   "cell_type": "code",
   "execution_count": null,
   "metadata": {},
   "outputs": [],
   "source": [
    "# Requirement: consider only company name as the independent variable for model building\n",
    "# Hence, Create a new column \"CompanyName\" from existing column \"CarName\"\n",
    "Car_Price['CompanyName'] = Car_Price['CarName'].str.split(' ').str[0]"
   ]
  },
  {
   "cell_type": "code",
   "execution_count": null,
   "metadata": {},
   "outputs": [],
   "source": [
    "display(Car_Price.head(50))"
   ]
  },
  {
   "cell_type": "code",
   "execution_count": null,
   "metadata": {},
   "outputs": [],
   "source": [
    "# Drop column \"CarName\"\n",
    "Car_Price_Prep = Car_Price\n",
    "Car_Price_Prep.drop(['CarName'], axis = 1, inplace = True)\n",
    "display(Car_Price_Prep.head())"
   ]
  },
  {
   "cell_type": "code",
   "execution_count": null,
   "metadata": {},
   "outputs": [],
   "source": [
    "# Company Name has below typo errors: To correct these typos\n",
    "# -Maxda instead of Mazda\n",
    "# -Nissan instead of nissan\n",
    "# -porcshce instead of porsche\n",
    "# -toyouta instead of toyota\n",
    "# -vokswagen, vw instead of volkswagen\n",
    "\n",
    "Car_Price_Prep['CompanyName'] = Car_Price_Prep['CompanyName'].str.replace('maxda','mazda')"
   ]
  },
  {
   "cell_type": "code",
   "execution_count": null,
   "metadata": {},
   "outputs": [],
   "source": [
    "Car_Price_Prep['CompanyName'] = Car_Price_Prep['CompanyName'].str.replace('Nissan','nissan')"
   ]
  },
  {
   "cell_type": "code",
   "execution_count": null,
   "metadata": {},
   "outputs": [],
   "source": [
    "Car_Price_Prep['CompanyName'] = Car_Price_Prep['CompanyName'].str.replace('porcshce','porsche')"
   ]
  },
  {
   "cell_type": "code",
   "execution_count": null,
   "metadata": {},
   "outputs": [],
   "source": [
    "Car_Price_Prep['CompanyName'] = Car_Price_Prep['CompanyName'].str.replace('toyouta','toyota')"
   ]
  },
  {
   "cell_type": "code",
   "execution_count": null,
   "metadata": {},
   "outputs": [],
   "source": [
    "Car_Price_Prep['CompanyName'] = Car_Price_Prep['CompanyName'].str.replace('vokswagen','volkswagen')"
   ]
  },
  {
   "cell_type": "code",
   "execution_count": null,
   "metadata": {},
   "outputs": [],
   "source": [
    "Car_Price_Prep['CompanyName'] = Car_Price_Prep['CompanyName'].str.replace('vw','volkswagen')"
   ]
  },
  {
   "cell_type": "code",
   "execution_count": null,
   "metadata": {},
   "outputs": [],
   "source": [
    "display(Car_Price_Prep['CompanyName'].unique())"
   ]
  },
  {
   "cell_type": "code",
   "execution_count": null,
   "metadata": {},
   "outputs": [],
   "source": [
    "# To Drop column 'car_ID', as it has no impact on car_Price\n",
    "Car_Price_Prep.drop(['car_ID'], axis = 1, inplace = True)\n",
    "display(Car_Price_Prep.head())"
   ]
  },
  {
   "cell_type": "markdown",
   "metadata": {},
   "source": [
    "### To Create Dummy Variables for all Categorical Variables"
   ]
  },
  {
   "cell_type": "code",
   "execution_count": null,
   "metadata": {},
   "outputs": [],
   "source": [
    "# 1. Cat Variable : fueltype\n",
    "Car_Price_Prep['fueltype'].unique()"
   ]
  },
  {
   "cell_type": "code",
   "execution_count": null,
   "metadata": {},
   "outputs": [],
   "source": [
    "# get dummies for 'fueltype'\n",
    "fueltype_d = pd.get_dummies(Car_Price_Prep['fueltype'])"
   ]
  },
  {
   "cell_type": "code",
   "execution_count": null,
   "metadata": {},
   "outputs": [],
   "source": [
    "fueltype_d.head()"
   ]
  },
  {
   "cell_type": "code",
   "execution_count": null,
   "metadata": {},
   "outputs": [],
   "source": [
    "# 'fueltype' has 2 levels. Hence, will create 2-1 dummy variable. Arbitrarily choose 'gas' (Values : 0 refers to diesel and 1 refers to gas)\n",
    "fueltype_d = pd.get_dummies(Car_Price_Prep['fueltype'],drop_first = True)"
   ]
  },
  {
   "cell_type": "code",
   "execution_count": null,
   "metadata": {},
   "outputs": [],
   "source": [
    "# Merge the dummy variable to Car_Price_Prep dataframe\n",
    "Car_Price_Prep = pd.concat([Car_Price_Prep,fueltype_d], axis = 1)"
   ]
  },
  {
   "cell_type": "code",
   "execution_count": null,
   "metadata": {},
   "outputs": [],
   "source": [
    "# Check for dummy variable in dataframe.\n",
    "display(Car_Price_Prep.head())"
   ]
  },
  {
   "cell_type": "code",
   "execution_count": null,
   "metadata": {},
   "outputs": [],
   "source": [
    "# To Drop \"fueltype\"\n",
    "Car_Price_Prep.drop(['fueltype'], axis = 1, inplace = True)"
   ]
  },
  {
   "cell_type": "code",
   "execution_count": null,
   "metadata": {},
   "outputs": [],
   "source": [
    "# 2. Cat Variable : aspiration\n",
    "Car_Price_Prep['aspiration'].unique()"
   ]
  },
  {
   "cell_type": "code",
   "execution_count": null,
   "metadata": {},
   "outputs": [],
   "source": [
    "# 'aspiration' has 2 levels. Hence, will create 2-1 dummy variable. Arbitrarily choose 1 of the dummy variable.\n",
    "aspiration_d = pd.get_dummies(Car_Price_Prep['aspiration'],drop_first = True)"
   ]
  },
  {
   "cell_type": "code",
   "execution_count": null,
   "metadata": {},
   "outputs": [],
   "source": [
    "# Merge the dummy variable to Car_Price_Prep dataframe\n",
    "Car_Price_Prep = pd.concat([Car_Price_Prep,aspiration_d], axis = 1)"
   ]
  },
  {
   "cell_type": "code",
   "execution_count": null,
   "metadata": {},
   "outputs": [],
   "source": [
    "# Check for dummy variable in dataframe.\n",
    "display(Car_Price_Prep.head())"
   ]
  },
  {
   "cell_type": "code",
   "execution_count": null,
   "metadata": {},
   "outputs": [],
   "source": [
    "# To Drop \"aspiration\"\n",
    "Car_Price_Prep.drop(['aspiration'], axis = 1, inplace = True)"
   ]
  },
  {
   "cell_type": "code",
   "execution_count": null,
   "metadata": {},
   "outputs": [],
   "source": [
    "# 3. Cat Variable : doornumber\n",
    "Car_Price_Prep['doornumber'].unique()"
   ]
  },
  {
   "cell_type": "code",
   "execution_count": null,
   "metadata": {},
   "outputs": [],
   "source": [
    "# 'doornumber' has 2 levels. Hence, will create 2-1 dummy variable. \n",
    "doornumber_d = pd.get_dummies(Car_Price_Prep['doornumber'],drop_first = True)"
   ]
  },
  {
   "cell_type": "code",
   "execution_count": null,
   "metadata": {},
   "outputs": [],
   "source": [
    "# Merge the dummy variable to Car_Price_Prep dataframe\n",
    "Car_Price_Prep = pd.concat([Car_Price_Prep,doornumber_d], axis = 1)"
   ]
  },
  {
   "cell_type": "code",
   "execution_count": null,
   "metadata": {},
   "outputs": [],
   "source": [
    "# Check for dummy variable in dataframe.\n",
    "display(Car_Price_Prep.head())"
   ]
  },
  {
   "cell_type": "code",
   "execution_count": null,
   "metadata": {},
   "outputs": [],
   "source": [
    "# To Drop \"doornumber\"\n",
    "Car_Price_Prep.drop(['doornumber'], axis = 1, inplace = True)"
   ]
  },
  {
   "cell_type": "code",
   "execution_count": null,
   "metadata": {},
   "outputs": [],
   "source": [
    "# 4. Cat Variable : carbody\n",
    "Car_Price_Prep['carbody'].unique()"
   ]
  },
  {
   "cell_type": "code",
   "execution_count": null,
   "metadata": {},
   "outputs": [],
   "source": [
    "# 'carbody' has 5 levels. Hence, will create 5-1 dummy variable. \n",
    "carbody_d = pd.get_dummies(Car_Price_Prep['carbody'],drop_first = True)"
   ]
  },
  {
   "cell_type": "code",
   "execution_count": null,
   "metadata": {},
   "outputs": [],
   "source": [
    "# Merge the dummy variable to Car_Price_Prep dataframe\n",
    "Car_Price_Prep = pd.concat([Car_Price_Prep,carbody_d], axis = 1)"
   ]
  },
  {
   "cell_type": "code",
   "execution_count": null,
   "metadata": {},
   "outputs": [],
   "source": [
    "# Check for dummy variable in dataframe.\n",
    "display(Car_Price_Prep.head())"
   ]
  },
  {
   "cell_type": "code",
   "execution_count": null,
   "metadata": {},
   "outputs": [],
   "source": [
    "# To Drop \"carbody\"\n",
    "Car_Price_Prep.drop(['carbody'], axis = 1, inplace = True)"
   ]
  },
  {
   "cell_type": "code",
   "execution_count": null,
   "metadata": {},
   "outputs": [],
   "source": [
    "# 5. Cat Variable : drivewheel\n",
    "Car_Price_Prep['drivewheel'].unique()"
   ]
  },
  {
   "cell_type": "code",
   "execution_count": null,
   "metadata": {},
   "outputs": [],
   "source": [
    "# 'drivewheel' has 3 levels. Hence, will create 3-1 dummy variables. \n",
    "drivewheel_d = pd.get_dummies(Car_Price_Prep['drivewheel'],drop_first = True)"
   ]
  },
  {
   "cell_type": "code",
   "execution_count": null,
   "metadata": {},
   "outputs": [],
   "source": [
    "# Merge the dummy variable to Car_Price_Prep dataframe\n",
    "Car_Price_Prep = pd.concat([Car_Price_Prep,drivewheel_d], axis = 1)"
   ]
  },
  {
   "cell_type": "code",
   "execution_count": null,
   "metadata": {},
   "outputs": [],
   "source": [
    "# Check for dummy variable in dataframe.\n",
    "display(Car_Price_Prep.head())"
   ]
  },
  {
   "cell_type": "code",
   "execution_count": null,
   "metadata": {},
   "outputs": [],
   "source": [
    "# To Drop \"drivewheel\"\n",
    "Car_Price_Prep.drop(['drivewheel'], axis = 1, inplace = True)"
   ]
  },
  {
   "cell_type": "code",
   "execution_count": null,
   "metadata": {},
   "outputs": [],
   "source": [
    "# 6. Cat Variable : enginelocation\n",
    "Car_Price_Prep['enginelocation'].unique()"
   ]
  },
  {
   "cell_type": "code",
   "execution_count": null,
   "metadata": {},
   "outputs": [],
   "source": [
    "# 'enginelocation' has 2 levels. Hence, will create 2-1 dummy variables.\n",
    "enginelocation_d = pd.get_dummies(Car_Price_Prep['enginelocation'],drop_first = True)"
   ]
  },
  {
   "cell_type": "code",
   "execution_count": null,
   "metadata": {},
   "outputs": [],
   "source": [
    "# Merge the dummy variable to Car_Price_Prep dataframe\n",
    "Car_Price_Prep = pd.concat([Car_Price_Prep,enginelocation_d], axis = 1)"
   ]
  },
  {
   "cell_type": "code",
   "execution_count": null,
   "metadata": {},
   "outputs": [],
   "source": [
    "# Check for dummy variable in dataframe.\n",
    "display(Car_Price_Prep.head())"
   ]
  },
  {
   "cell_type": "code",
   "execution_count": null,
   "metadata": {},
   "outputs": [],
   "source": [
    "# To Drop \"enginelocation\"\n",
    "Car_Price_Prep.drop(['enginelocation'], axis = 1, inplace = True)"
   ]
  },
  {
   "cell_type": "code",
   "execution_count": null,
   "metadata": {},
   "outputs": [],
   "source": [
    "# 7. Cat Variable : enginetype\n",
    "Car_Price_Prep['enginetype'].unique()"
   ]
  },
  {
   "cell_type": "code",
   "execution_count": null,
   "metadata": {},
   "outputs": [],
   "source": [
    "# 'enginetype' has 7 levels. Hence, will create 7-1 dummy variable. \n",
    "enginetype_d = pd.get_dummies(Car_Price_Prep['enginetype'],drop_first = True)"
   ]
  },
  {
   "cell_type": "code",
   "execution_count": null,
   "metadata": {},
   "outputs": [],
   "source": [
    "# Merge the dummy variable to Car_Price_Prep dataframe\n",
    "Car_Price_Prep = pd.concat([Car_Price_Prep,enginetype_d], axis = 1)"
   ]
  },
  {
   "cell_type": "code",
   "execution_count": null,
   "metadata": {},
   "outputs": [],
   "source": [
    "# Check for dummy variable in dataframe.\n",
    "display(Car_Price_Prep.head())"
   ]
  },
  {
   "cell_type": "code",
   "execution_count": null,
   "metadata": {},
   "outputs": [],
   "source": [
    "# To Drop \"enginetype\"\n",
    "Car_Price_Prep.drop(['enginetype'], axis = 1, inplace = True)"
   ]
  },
  {
   "cell_type": "code",
   "execution_count": null,
   "metadata": {},
   "outputs": [],
   "source": [
    "# 8. Cat Variable : cylindernumber\n",
    "Car_Price_Prep['cylindernumber'].unique()"
   ]
  },
  {
   "cell_type": "code",
   "execution_count": null,
   "metadata": {},
   "outputs": [],
   "source": [
    "# 'cylindernumber' has 7 levels. Hence, will create 7-1 dummy variables. \n",
    "cylindernumber_d = pd.get_dummies(Car_Price_Prep['cylindernumber'],drop_first = True)"
   ]
  },
  {
   "cell_type": "code",
   "execution_count": null,
   "metadata": {},
   "outputs": [],
   "source": [
    "# Merge the dummy variable to Car_Price_Prep dataframe\n",
    "Car_Price_Prep = pd.concat([Car_Price_Prep,cylindernumber_d], axis = 1)"
   ]
  },
  {
   "cell_type": "code",
   "execution_count": null,
   "metadata": {},
   "outputs": [],
   "source": [
    "# Check for dummy variable in dataframe.\n",
    "display(Car_Price_Prep.tail())"
   ]
  },
  {
   "cell_type": "code",
   "execution_count": null,
   "metadata": {},
   "outputs": [],
   "source": [
    "# To Drop \"cylindernumber\"\n",
    "Car_Price_Prep.drop(['cylindernumber'], axis = 1, inplace = True)"
   ]
  },
  {
   "cell_type": "code",
   "execution_count": null,
   "metadata": {},
   "outputs": [],
   "source": [
    "# 9. Cat Variable : fuelsystem\n",
    "Car_Price_Prep['fuelsystem'].unique()"
   ]
  },
  {
   "cell_type": "code",
   "execution_count": null,
   "metadata": {},
   "outputs": [],
   "source": [
    "# 'fuelsystem' has 8 levels. Hence, will create 8-1 dummy variables. \n",
    "fuelsystem_d = pd.get_dummies(Car_Price_Prep['fuelsystem'],drop_first = True)"
   ]
  },
  {
   "cell_type": "code",
   "execution_count": null,
   "metadata": {},
   "outputs": [],
   "source": [
    "# Merge the dummy variables to Car_Price_Prep dataframe\n",
    "Car_Price_Prep = pd.concat([Car_Price_Prep,fuelsystem_d], axis = 1)"
   ]
  },
  {
   "cell_type": "code",
   "execution_count": null,
   "metadata": {},
   "outputs": [],
   "source": [
    "# Check for dummy variables in dataframe.\n",
    "display(Car_Price_Prep.tail(5))"
   ]
  },
  {
   "cell_type": "code",
   "execution_count": null,
   "metadata": {},
   "outputs": [],
   "source": [
    "# To Drop \"fuelsystem\"\n",
    "Car_Price_Prep.drop(['fuelsystem'], axis = 1, inplace = True)"
   ]
  },
  {
   "cell_type": "code",
   "execution_count": null,
   "metadata": {},
   "outputs": [],
   "source": [
    "# 10. Cat Variable : CompanyName\n",
    "Car_Price_Prep['CompanyName'].unique()"
   ]
  },
  {
   "cell_type": "code",
   "execution_count": null,
   "metadata": {},
   "outputs": [],
   "source": [
    "# 'CompanyName' has 22 levels. Hence, will create 22-1 dummy variables. \n",
    "CompanyName_d = pd.get_dummies(Car_Price_Prep['CompanyName'],drop_first = True)"
   ]
  },
  {
   "cell_type": "code",
   "execution_count": null,
   "metadata": {},
   "outputs": [],
   "source": [
    "# Merge the dummy variables to Car_Price_Prep dataframe\n",
    "Car_Price_Prep = pd.concat([Car_Price_Prep,CompanyName_d], axis = 1)"
   ]
  },
  {
   "cell_type": "code",
   "execution_count": null,
   "metadata": {},
   "outputs": [],
   "source": [
    "# Check for dummy variables in dataframe.\n",
    "display(Car_Price_Prep.tail(5))"
   ]
  },
  {
   "cell_type": "code",
   "execution_count": null,
   "metadata": {},
   "outputs": [],
   "source": [
    "# To Drop \"CompanyName\"\n",
    "Car_Price_Prep.drop(['CompanyName'], axis = 1, inplace = True)"
   ]
  },
  {
   "cell_type": "code",
   "execution_count": null,
   "metadata": {},
   "outputs": [],
   "source": [
    "display(Car_Price_Prep.head())"
   ]
  },
  {
   "cell_type": "code",
   "execution_count": null,
   "metadata": {},
   "outputs": [],
   "source": [
    "Car_Price_Prep.info()"
   ]
  },
  {
   "cell_type": "markdown",
   "metadata": {},
   "source": [
    "## Step 4 : Splitting the data into Training and Testing Sets"
   ]
  },
  {
   "cell_type": "code",
   "execution_count": null,
   "metadata": {},
   "outputs": [],
   "source": [
    "df_train, df_test = train_test_split(Car_Price_Prep, train_size = 0.7, test_size = 0.3, random_state = 100)"
   ]
  },
  {
   "cell_type": "markdown",
   "metadata": {},
   "source": [
    "### Rescaling the Training Set Features using \"MinMax Scaling\""
   ]
  },
  {
   "cell_type": "code",
   "execution_count": null,
   "metadata": {},
   "outputs": [],
   "source": [
    "scaler = MinMaxScaler()"
   ]
  },
  {
   "cell_type": "code",
   "execution_count": null,
   "metadata": {},
   "outputs": [],
   "source": [
    "# Apply scaler() to all the columns except the 'dummy' variables\n",
    "\n",
    "rescale_features = ['symboling','wheelbase','carlength','carwidth','carheight','curbweight','enginesize','boreratio','stroke','compressionratio','horsepower','peakrpm','citympg','highwaympg','price']\n",
    "\n",
    "df_train[rescale_features] = scaler.fit_transform(df_train[rescale_features])"
   ]
  },
  {
   "cell_type": "code",
   "execution_count": null,
   "metadata": {},
   "outputs": [],
   "source": [
    "df_train.head()"
   ]
  },
  {
   "cell_type": "markdown",
   "metadata": {},
   "source": [
    "### Creating X and Y Sets for Model Building"
   ]
  },
  {
   "cell_type": "code",
   "execution_count": null,
   "metadata": {},
   "outputs": [],
   "source": [
    "y_train = df_train.pop('price')\n",
    "X_train = df_train"
   ]
  },
  {
   "cell_type": "markdown",
   "metadata": {},
   "source": [
    "## Step 5 : Building a Linear Model"
   ]
  },
  {
   "cell_type": "markdown",
   "metadata": {},
   "source": [
    "### Applying RFE"
   ]
  },
  {
   "cell_type": "code",
   "execution_count": null,
   "metadata": {},
   "outputs": [],
   "source": [
    "# Applying RFE with the output number of the variables = 10\n",
    "lm = LinearRegression()\n",
    "lm.fit(X_train, y_train)\n",
    "\n",
    "rfe = RFE(lm, 10)            \n",
    "rfe = rfe.fit(X_train, y_train)"
   ]
  },
  {
   "cell_type": "code",
   "execution_count": null,
   "metadata": {},
   "outputs": [],
   "source": [
    "list(zip(X_train.columns,rfe.support_,rfe.ranking_))"
   ]
  },
  {
   "cell_type": "code",
   "execution_count": null,
   "metadata": {},
   "outputs": [],
   "source": [
    "features = X_train.columns[rfe.support_]\n",
    "features"
   ]
  },
  {
   "cell_type": "code",
   "execution_count": null,
   "metadata": {},
   "outputs": [],
   "source": [
    "X_train.columns[~rfe.support_]"
   ]
  },
  {
   "cell_type": "markdown",
   "metadata": {},
   "source": [
    "### Building model using Statsmodel, for detailed analysis"
   ]
  },
  {
   "cell_type": "code",
   "execution_count": null,
   "metadata": {},
   "outputs": [],
   "source": [
    "# To create X_test dataframe with RFE selected 10 features\n",
    "X_train_rfe = X_train[features]"
   ]
  },
  {
   "cell_type": "code",
   "execution_count": null,
   "metadata": {},
   "outputs": [],
   "source": [
    "# To Add a constant variable \n",
    "X_train_rfe = sm.add_constant(X_train_rfe)"
   ]
  },
  {
   "cell_type": "code",
   "execution_count": null,
   "metadata": {},
   "outputs": [],
   "source": [
    "# Running the Linear Model\n",
    "lm = sm.OLS(y_train,X_train_rfe).fit() "
   ]
  },
  {
   "cell_type": "code",
   "execution_count": null,
   "metadata": {},
   "outputs": [],
   "source": [
    "display(lm.summary())"
   ]
  },
  {
   "cell_type": "code",
   "execution_count": null,
   "metadata": {},
   "outputs": [],
   "source": [
    "# To Calculate VIFs for the model\n",
    "X_train_rfe_vif = X_train_rfe.drop(['const'], axis=1)"
   ]
  },
  {
   "cell_type": "code",
   "execution_count": null,
   "metadata": {},
   "outputs": [],
   "source": [
    "vif = pd.DataFrame()\n",
    "X = X_train_rfe_vif\n",
    "vif['Features'] = X.columns\n",
    "vif['VIF'] = [variance_inflation_factor(X.values, i) for i in range(X.shape[1])]\n",
    "vif['VIF'] = round(vif['VIF'], 2)\n",
    "vif = vif.sort_values(by = \"VIF\", ascending = False)\n",
    "vif"
   ]
  },
  {
   "cell_type": "markdown",
   "metadata": {},
   "source": [
    "#### feature 'twelve' is insignificant in presence of other variables (ie, p-value is 0.511 >0.05) and hence drop it.\n",
    "#### Rebuild the model without \"twelve\"."
   ]
  },
  {
   "cell_type": "code",
   "execution_count": null,
   "metadata": {},
   "outputs": [],
   "source": [
    "X_train_rfe1 = X_train_rfe.drop([\"twelve\"], axis = 1)"
   ]
  },
  {
   "cell_type": "code",
   "execution_count": null,
   "metadata": {},
   "outputs": [],
   "source": [
    "# To Add a constant variable \n",
    "X_train_rfe1 = sm.add_constant(X_train_rfe1)"
   ]
  },
  {
   "cell_type": "code",
   "execution_count": null,
   "metadata": {},
   "outputs": [],
   "source": [
    "# Running the Linear Model\n",
    "lm1 = sm.OLS(y_train,X_train_rfe1).fit() "
   ]
  },
  {
   "cell_type": "code",
   "execution_count": null,
   "metadata": {},
   "outputs": [],
   "source": [
    "display(lm1.summary())"
   ]
  },
  {
   "cell_type": "code",
   "execution_count": null,
   "metadata": {},
   "outputs": [],
   "source": [
    "X_train_rfe1.columns"
   ]
  },
  {
   "cell_type": "code",
   "execution_count": null,
   "metadata": {},
   "outputs": [],
   "source": [
    "# To Calculate VIFs for the new model\n",
    "X_train_rfe1_vif = X_train_rfe1.drop(['const'], axis=1)"
   ]
  },
  {
   "cell_type": "code",
   "execution_count": null,
   "metadata": {},
   "outputs": [],
   "source": [
    "vif = pd.DataFrame()\n",
    "X = X_train_rfe1_vif\n",
    "vif['Features'] = X.columns\n",
    "vif['VIF'] = [variance_inflation_factor(X.values, i) for i in range(X.shape[1])]\n",
    "vif['VIF'] = round(vif['VIF'], 2)\n",
    "vif = vif.sort_values(by = \"VIF\", ascending = False)\n",
    "vif"
   ]
  },
  {
   "cell_type": "markdown",
   "metadata": {},
   "source": [
    "#### expected VIF is usually <5, there are multiple features above 5. Lets drop them one by one.\n",
    "#### Rebuild the Model without \"curbweight\""
   ]
  },
  {
   "cell_type": "code",
   "execution_count": null,
   "metadata": {},
   "outputs": [],
   "source": [
    "X_train_rfe2 = X_train_rfe1.drop([\"curbweight\"], axis = 1)\n",
    "X_train_rfe2.columns"
   ]
  },
  {
   "cell_type": "code",
   "execution_count": null,
   "metadata": {},
   "outputs": [],
   "source": [
    "# To Add a constant variable \n",
    "X_train_rfe2 = sm.add_constant(X_train_rfe2)\n",
    "X_train_rfe2.columns"
   ]
  },
  {
   "cell_type": "code",
   "execution_count": null,
   "metadata": {},
   "outputs": [],
   "source": [
    "# Running the Linear Model\n",
    "lm2 = sm.OLS(y_train,X_train_rfe2).fit() "
   ]
  },
  {
   "cell_type": "code",
   "execution_count": null,
   "metadata": {},
   "outputs": [],
   "source": [
    "display(lm2.summary())"
   ]
  },
  {
   "cell_type": "code",
   "execution_count": null,
   "metadata": {},
   "outputs": [],
   "source": [
    "# To Calculate VIFs for the new model\n",
    "X_train_rfe2_vif = X_train_rfe2.drop(['const'], axis=1)"
   ]
  },
  {
   "cell_type": "code",
   "execution_count": null,
   "metadata": {},
   "outputs": [],
   "source": [
    "vif = pd.DataFrame()\n",
    "X = X_train_rfe2_vif\n",
    "vif['Features'] = X.columns\n",
    "vif['VIF'] = [variance_inflation_factor(X.values, i) for i in range(X.shape[1])]\n",
    "vif['VIF'] = round(vif['VIF'], 2)\n",
    "vif = vif.sort_values(by = \"VIF\", ascending = False)\n",
    "vif"
   ]
  },
  {
   "cell_type": "markdown",
   "metadata": {},
   "source": [
    "#### expected VIF is usually <5, there are multiple features above 5. Lets drop them one by one.\n",
    "#### Rebuild the Model without \"carwidth\""
   ]
  },
  {
   "cell_type": "code",
   "execution_count": null,
   "metadata": {},
   "outputs": [],
   "source": [
    "X_train_rfe3 = X_train_rfe2.drop([\"carwidth\"], axis = 1)\n",
    "X_train_rfe3.columns"
   ]
  },
  {
   "cell_type": "code",
   "execution_count": null,
   "metadata": {},
   "outputs": [],
   "source": [
    "# To Add a constant variable \n",
    "X_train_rfe3 = sm.add_constant(X_train_rfe3)\n",
    "X_train_rfe3.columns"
   ]
  },
  {
   "cell_type": "code",
   "execution_count": null,
   "metadata": {},
   "outputs": [],
   "source": [
    "# Running the Linear Model\n",
    "lm3 = sm.OLS(y_train,X_train_rfe3).fit() "
   ]
  },
  {
   "cell_type": "code",
   "execution_count": null,
   "metadata": {},
   "outputs": [],
   "source": [
    "display(lm3.summary())"
   ]
  },
  {
   "cell_type": "code",
   "execution_count": null,
   "metadata": {},
   "outputs": [],
   "source": [
    "# To Calculate VIFs for the new model\n",
    "X_train_rfe3_vif = X_train_rfe3.drop(['const'], axis=1)"
   ]
  },
  {
   "cell_type": "code",
   "execution_count": null,
   "metadata": {},
   "outputs": [],
   "source": [
    "vif = pd.DataFrame()\n",
    "X = X_train_rfe3_vif\n",
    "vif['Features'] = X.columns\n",
    "vif['VIF'] = [variance_inflation_factor(X.values, i) for i in range(X.shape[1])]\n",
    "vif['VIF'] = round(vif['VIF'], 2)\n",
    "vif = vif.sort_values(by = \"VIF\", ascending = False)\n",
    "vif"
   ]
  },
  {
   "cell_type": "markdown",
   "metadata": {},
   "source": [
    "#### expected VIF is usually <5, there are multiple features above 5. Lets drop them one by one.\n",
    "#### Rebuild the Model without \"boreratio\""
   ]
  },
  {
   "cell_type": "code",
   "execution_count": null,
   "metadata": {},
   "outputs": [],
   "source": [
    "X_train_rfe4 = X_train_rfe3.drop([\"boreratio\"], axis = 1)\n",
    "X_train_rfe4.columns"
   ]
  },
  {
   "cell_type": "code",
   "execution_count": null,
   "metadata": {},
   "outputs": [],
   "source": [
    "# To Add a constant variable \n",
    "X_train_rfe4 = sm.add_constant(X_train_rfe4)\n",
    "X_train_rfe4.columns"
   ]
  },
  {
   "cell_type": "code",
   "execution_count": null,
   "metadata": {},
   "outputs": [],
   "source": [
    "# Running the Linear Model\n",
    "lm4 = sm.OLS(y_train,X_train_rfe4).fit() "
   ]
  },
  {
   "cell_type": "code",
   "execution_count": null,
   "metadata": {},
   "outputs": [],
   "source": [
    "display(lm4.summary())"
   ]
  },
  {
   "cell_type": "code",
   "execution_count": null,
   "metadata": {},
   "outputs": [],
   "source": [
    "# To Calculate VIFs for the new model\n",
    "X_train_rfe4_vif = X_train_rfe4.drop(['const'], axis=1)"
   ]
  },
  {
   "cell_type": "code",
   "execution_count": null,
   "metadata": {},
   "outputs": [],
   "source": [
    "vif = pd.DataFrame()\n",
    "X = X_train_rfe4_vif\n",
    "vif['Features'] = X.columns\n",
    "vif['VIF'] = [variance_inflation_factor(X.values, i) for i in range(X.shape[1])]\n",
    "vif['VIF'] = round(vif['VIF'], 2)\n",
    "vif = vif.sort_values(by = \"VIF\", ascending = False)\n",
    "vif"
   ]
  },
  {
   "cell_type": "markdown",
   "metadata": {},
   "source": [
    "#### feature 'three' is insignificant in presence of other variables (ie, p-value is 0.338 >0.05) and hence drop it.\n",
    "#### Rebuild the model without \"three\"."
   ]
  },
  {
   "cell_type": "code",
   "execution_count": null,
   "metadata": {},
   "outputs": [],
   "source": [
    "X_train_rfe5 = X_train_rfe4.drop([\"three\"], axis = 1)\n",
    "X_train_rfe5.columns"
   ]
  },
  {
   "cell_type": "code",
   "execution_count": null,
   "metadata": {},
   "outputs": [],
   "source": [
    "# To Add a constant variable \n",
    "X_train_rfe5 = sm.add_constant(X_train_rfe5)\n",
    "X_train_rfe5.columns"
   ]
  },
  {
   "cell_type": "code",
   "execution_count": null,
   "metadata": {},
   "outputs": [],
   "source": [
    "# Running the Linear Model\n",
    "lm5 = sm.OLS(y_train,X_train_rfe5).fit() "
   ]
  },
  {
   "cell_type": "code",
   "execution_count": null,
   "metadata": {},
   "outputs": [],
   "source": [
    "display(lm5.summary())"
   ]
  },
  {
   "cell_type": "code",
   "execution_count": null,
   "metadata": {},
   "outputs": [],
   "source": [
    "# To Calculate VIFs for the new model\n",
    "X_train_rfe5_vif = X_train_rfe5.drop(['const'], axis=1)"
   ]
  },
  {
   "cell_type": "code",
   "execution_count": null,
   "metadata": {},
   "outputs": [],
   "source": [
    "vif = pd.DataFrame()\n",
    "X = X_train_rfe5_vif\n",
    "vif['Features'] = X.columns\n",
    "vif['VIF'] = [variance_inflation_factor(X.values, i) for i in range(X.shape[1])]\n",
    "vif['VIF'] = round(vif['VIF'], 2)\n",
    "vif = vif.sort_values(by = \"VIF\", ascending = False)\n",
    "vif"
   ]
  },
  {
   "cell_type": "markdown",
   "metadata": {},
   "source": [
    "#### feature 'rear' is insignificant in presence of other variables (ie, p-value is 0.236 >0.05) and hence drop it.\n",
    "#### Rebuild the model without \"rear\"."
   ]
  },
  {
   "cell_type": "code",
   "execution_count": null,
   "metadata": {},
   "outputs": [],
   "source": [
    "X_train_rfe6 = X_train_rfe5.drop([\"rear\"], axis = 1)\n",
    "X_train_rfe6.columns"
   ]
  },
  {
   "cell_type": "code",
   "execution_count": null,
   "metadata": {},
   "outputs": [],
   "source": [
    "# To Add a constant variable \n",
    "X_train_rfe6 = sm.add_constant(X_train_rfe6)\n",
    "X_train_rfe6.columns"
   ]
  },
  {
   "cell_type": "code",
   "execution_count": null,
   "metadata": {},
   "outputs": [],
   "source": [
    "# Running the Linear Model\n",
    "lm6 = sm.OLS(y_train,X_train_rfe6).fit() "
   ]
  },
  {
   "cell_type": "code",
   "execution_count": null,
   "metadata": {},
   "outputs": [],
   "source": [
    "display(lm6.summary())"
   ]
  },
  {
   "cell_type": "code",
   "execution_count": null,
   "metadata": {},
   "outputs": [],
   "source": [
    "# To Calculate VIFs for the new model\n",
    "X_train_rfe6_vif = X_train_rfe6.drop(['const'], axis=1)"
   ]
  },
  {
   "cell_type": "code",
   "execution_count": null,
   "metadata": {},
   "outputs": [],
   "source": [
    "vif = pd.DataFrame()\n",
    "X = X_train_rfe6_vif\n",
    "vif['Features'] = X.columns\n",
    "vif['VIF'] = [variance_inflation_factor(X.values, i) for i in range(X.shape[1])]\n",
    "vif['VIF'] = round(vif['VIF'], 2)\n",
    "vif = vif.sort_values(by = \"VIF\", ascending = False)\n",
    "vif"
   ]
  },
  {
   "cell_type": "markdown",
   "metadata": {},
   "source": [
    "## Step 7: Residual Analysis of Test Data"
   ]
  },
  {
   "cell_type": "code",
   "execution_count": null,
   "metadata": {},
   "outputs": [],
   "source": [
    "y_train_price = lm6.predict(X_train_rfe6)"
   ]
  },
  {
   "cell_type": "code",
   "execution_count": null,
   "metadata": {},
   "outputs": [],
   "source": [
    "# To Plot the histogram of the error terms\n",
    "fig = plt.figure()\n",
    "sns.distplot((y_train - y_train_price), bins = 20)\n",
    "fig.suptitle('Error Terms', fontsize = 20)                  \n",
    "plt.xlabel('Errors', fontsize = 18)                        "
   ]
  },
  {
   "cell_type": "markdown",
   "metadata": {},
   "source": [
    "## Step 8 : Make Predictions using the Final Model"
   ]
  },
  {
   "cell_type": "markdown",
   "metadata": {},
   "source": [
    "### Rescaling the Test Set Features using \"MinMax Scaling\""
   ]
  },
  {
   "cell_type": "code",
   "execution_count": null,
   "metadata": {},
   "outputs": [],
   "source": [
    "rescale_features = ['symboling','wheelbase','carlength','carwidth','carheight','curbweight','enginesize','boreratio','stroke','compressionratio','horsepower','peakrpm','citympg','highwaympg','price']\n",
    "\n",
    "df_test[rescale_features] = scaler.transform(df_test[rescale_features])"
   ]
  },
  {
   "cell_type": "code",
   "execution_count": null,
   "metadata": {},
   "outputs": [],
   "source": [
    "df_test.head()"
   ]
  },
  {
   "cell_type": "markdown",
   "metadata": {},
   "source": [
    "### Creating X and Y Test Sets "
   ]
  },
  {
   "cell_type": "code",
   "execution_count": null,
   "metadata": {},
   "outputs": [],
   "source": [
    "y_test = df_test.pop('price')\n",
    "X_test = df_test"
   ]
  },
  {
   "cell_type": "code",
   "execution_count": null,
   "metadata": {},
   "outputs": [],
   "source": [
    "# To make predictions using the model\n",
    "\n",
    "X_test_new = X_test[['enginesize','rotor','bmw','porsche']]\n",
    "\n",
    "# Adding a constant variable \n",
    "X_test_new = sm.add_constant(X_test_new)"
   ]
  },
  {
   "cell_type": "code",
   "execution_count": null,
   "metadata": {},
   "outputs": [],
   "source": [
    "y_pred = lm6.predict(X_test_new)"
   ]
  },
  {
   "cell_type": "markdown",
   "metadata": {},
   "source": [
    "## Step 9 : Model Evaluation"
   ]
  },
  {
   "cell_type": "code",
   "execution_count": null,
   "metadata": {},
   "outputs": [],
   "source": [
    "# Plotting y_test and y_pred to understand the spread.\n",
    "fig = plt.figure()\n",
    "plt.scatter(y_test,y_pred)\n",
    "fig.suptitle('y_test vs y_pred', fontsize=20)              \n",
    "plt.xlabel('y_test', fontsize=18)                          \n",
    "plt.ylabel('y_pred', fontsize=16)                          "
   ]
  },
  {
   "cell_type": "code",
   "execution_count": null,
   "metadata": {},
   "outputs": [],
   "source": [
    "from sklearn.metrics import r2_score\n",
    "r2_score(y_test, y_pred)"
   ]
  },
  {
   "cell_type": "markdown",
   "metadata": {},
   "source": [
    "####  Model Evaluation results hold good. \n",
    "#### The difference between Model Training R2-score (0.840) and Test R2-score(0.849) is 0.009."
   ]
  },
  {
   "cell_type": "code",
   "execution_count": null,
   "metadata": {},
   "outputs": [],
   "source": []
  }
 ],
 "metadata": {
  "kernelspec": {
   "display_name": "Python 3",
   "language": "python",
   "name": "python3"
  },
  "language_info": {
   "codemirror_mode": {
    "name": "ipython",
    "version": 3
   },
   "file_extension": ".py",
   "mimetype": "text/x-python",
   "name": "python",
   "nbconvert_exporter": "python",
   "pygments_lexer": "ipython3",
   "version": "3.7.1"
  }
 },
 "nbformat": 4,
 "nbformat_minor": 2
}
